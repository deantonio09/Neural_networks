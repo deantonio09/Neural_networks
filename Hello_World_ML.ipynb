{
 "cells": [
  {
   "cell_type": "markdown",
   "metadata": {
    "jupyter": {
     "outputs_hidden": true
    }
   },
   "source": [
    "# Hello World ML\n",
    "MAD - U CENTRAL - Redes neuronales"
   ]
  },
  {
   "cell_type": "code",
   "execution_count": 2,
   "metadata": {
    "collapsed": true,
    "jupyter": {
     "outputs_hidden": true
    }
   },
   "outputs": [
    {
     "name": "stderr",
     "output_type": "stream",
     "text": [
      "C:\\Users\\deant\\.conda\\envs\\master1\\lib\\site-packages\\tensorflow\\python\\framework\\dtypes.py:516: FutureWarning: Passing (type, 1) or '1type' as a synonym of type is deprecated; in a future version of numpy, it will be understood as (type, (1,)) / '(1,)type'.\n",
      "  _np_qint8 = np.dtype([(\"qint8\", np.int8, 1)])\n",
      "C:\\Users\\deant\\.conda\\envs\\master1\\lib\\site-packages\\tensorflow\\python\\framework\\dtypes.py:517: FutureWarning: Passing (type, 1) or '1type' as a synonym of type is deprecated; in a future version of numpy, it will be understood as (type, (1,)) / '(1,)type'.\n",
      "  _np_quint8 = np.dtype([(\"quint8\", np.uint8, 1)])\n",
      "C:\\Users\\deant\\.conda\\envs\\master1\\lib\\site-packages\\tensorflow\\python\\framework\\dtypes.py:518: FutureWarning: Passing (type, 1) or '1type' as a synonym of type is deprecated; in a future version of numpy, it will be understood as (type, (1,)) / '(1,)type'.\n",
      "  _np_qint16 = np.dtype([(\"qint16\", np.int16, 1)])\n",
      "C:\\Users\\deant\\.conda\\envs\\master1\\lib\\site-packages\\tensorflow\\python\\framework\\dtypes.py:519: FutureWarning: Passing (type, 1) or '1type' as a synonym of type is deprecated; in a future version of numpy, it will be understood as (type, (1,)) / '(1,)type'.\n",
      "  _np_quint16 = np.dtype([(\"quint16\", np.uint16, 1)])\n",
      "C:\\Users\\deant\\.conda\\envs\\master1\\lib\\site-packages\\tensorflow\\python\\framework\\dtypes.py:520: FutureWarning: Passing (type, 1) or '1type' as a synonym of type is deprecated; in a future version of numpy, it will be understood as (type, (1,)) / '(1,)type'.\n",
      "  _np_qint32 = np.dtype([(\"qint32\", np.int32, 1)])\n",
      "C:\\Users\\deant\\.conda\\envs\\master1\\lib\\site-packages\\tensorflow\\python\\framework\\dtypes.py:525: FutureWarning: Passing (type, 1) or '1type' as a synonym of type is deprecated; in a future version of numpy, it will be understood as (type, (1,)) / '(1,)type'.\n",
      "  np_resource = np.dtype([(\"resource\", np.ubyte, 1)])\n",
      "C:\\Users\\deant\\.conda\\envs\\master1\\lib\\site-packages\\tensorboard\\compat\\tensorflow_stub\\dtypes.py:541: FutureWarning: Passing (type, 1) or '1type' as a synonym of type is deprecated; in a future version of numpy, it will be understood as (type, (1,)) / '(1,)type'.\n",
      "  _np_qint8 = np.dtype([(\"qint8\", np.int8, 1)])\n",
      "C:\\Users\\deant\\.conda\\envs\\master1\\lib\\site-packages\\tensorboard\\compat\\tensorflow_stub\\dtypes.py:542: FutureWarning: Passing (type, 1) or '1type' as a synonym of type is deprecated; in a future version of numpy, it will be understood as (type, (1,)) / '(1,)type'.\n",
      "  _np_quint8 = np.dtype([(\"quint8\", np.uint8, 1)])\n",
      "C:\\Users\\deant\\.conda\\envs\\master1\\lib\\site-packages\\tensorboard\\compat\\tensorflow_stub\\dtypes.py:543: FutureWarning: Passing (type, 1) or '1type' as a synonym of type is deprecated; in a future version of numpy, it will be understood as (type, (1,)) / '(1,)type'.\n",
      "  _np_qint16 = np.dtype([(\"qint16\", np.int16, 1)])\n",
      "C:\\Users\\deant\\.conda\\envs\\master1\\lib\\site-packages\\tensorboard\\compat\\tensorflow_stub\\dtypes.py:544: FutureWarning: Passing (type, 1) or '1type' as a synonym of type is deprecated; in a future version of numpy, it will be understood as (type, (1,)) / '(1,)type'.\n",
      "  _np_quint16 = np.dtype([(\"quint16\", np.uint16, 1)])\n",
      "C:\\Users\\deant\\.conda\\envs\\master1\\lib\\site-packages\\tensorboard\\compat\\tensorflow_stub\\dtypes.py:545: FutureWarning: Passing (type, 1) or '1type' as a synonym of type is deprecated; in a future version of numpy, it will be understood as (type, (1,)) / '(1,)type'.\n",
      "  _np_qint32 = np.dtype([(\"qint32\", np.int32, 1)])\n",
      "C:\\Users\\deant\\.conda\\envs\\master1\\lib\\site-packages\\tensorboard\\compat\\tensorflow_stub\\dtypes.py:550: FutureWarning: Passing (type, 1) or '1type' as a synonym of type is deprecated; in a future version of numpy, it will be understood as (type, (1,)) / '(1,)type'.\n",
      "  np_resource = np.dtype([(\"resource\", np.ubyte, 1)])\n"
     ]
    }
   ],
   "source": [
    "# Importar librerías\n",
    "import tensorflow as tf\n",
    "import numpy as np\n",
    "import pandas as pd\n",
    "import matplotlib.pyplot as plt\n",
    "from tensorflow import keras"
   ]
  },
  {
   "cell_type": "code",
   "execution_count": 3,
   "metadata": {},
   "outputs": [
    {
     "data": {
      "text/html": [
       "<div>\n",
       "<style scoped>\n",
       "    .dataframe tbody tr th:only-of-type {\n",
       "        vertical-align: middle;\n",
       "    }\n",
       "\n",
       "    .dataframe tbody tr th {\n",
       "        vertical-align: top;\n",
       "    }\n",
       "\n",
       "    .dataframe thead th {\n",
       "        text-align: right;\n",
       "    }\n",
       "</style>\n",
       "<table border=\"1\" class=\"dataframe\">\n",
       "  <thead>\n",
       "    <tr style=\"text-align: right;\">\n",
       "      <th></th>\n",
       "      <th>x</th>\n",
       "      <th>y</th>\n",
       "    </tr>\n",
       "  </thead>\n",
       "  <tbody>\n",
       "    <tr>\n",
       "      <th>0</th>\n",
       "      <td>-10.000000</td>\n",
       "      <td>-17.999036</td>\n",
       "    </tr>\n",
       "    <tr>\n",
       "      <th>1</th>\n",
       "      <td>-9.797980</td>\n",
       "      <td>-19.518520</td>\n",
       "    </tr>\n",
       "    <tr>\n",
       "      <th>2</th>\n",
       "      <td>-9.595960</td>\n",
       "      <td>-21.524777</td>\n",
       "    </tr>\n",
       "    <tr>\n",
       "      <th>3</th>\n",
       "      <td>-9.393939</td>\n",
       "      <td>-15.941977</td>\n",
       "    </tr>\n",
       "    <tr>\n",
       "      <th>4</th>\n",
       "      <td>-9.191919</td>\n",
       "      <td>-16.278823</td>\n",
       "    </tr>\n",
       "    <tr>\n",
       "      <th>...</th>\n",
       "      <td>...</td>\n",
       "      <td>...</td>\n",
       "    </tr>\n",
       "    <tr>\n",
       "      <th>95</th>\n",
       "      <td>9.191919</td>\n",
       "      <td>18.960197</td>\n",
       "    </tr>\n",
       "    <tr>\n",
       "      <th>96</th>\n",
       "      <td>9.393939</td>\n",
       "      <td>13.618120</td>\n",
       "    </tr>\n",
       "    <tr>\n",
       "      <th>97</th>\n",
       "      <td>9.595960</td>\n",
       "      <td>20.575697</td>\n",
       "    </tr>\n",
       "    <tr>\n",
       "      <th>98</th>\n",
       "      <td>9.797980</td>\n",
       "      <td>16.339859</td>\n",
       "    </tr>\n",
       "    <tr>\n",
       "      <th>99</th>\n",
       "      <td>10.000000</td>\n",
       "      <td>25.470135</td>\n",
       "    </tr>\n",
       "  </tbody>\n",
       "</table>\n",
       "<p>100 rows × 2 columns</p>\n",
       "</div>"
      ],
      "text/plain": [
       "            x          y\n",
       "0  -10.000000 -17.999036\n",
       "1   -9.797980 -19.518520\n",
       "2   -9.595960 -21.524777\n",
       "3   -9.393939 -15.941977\n",
       "4   -9.191919 -16.278823\n",
       "..        ...        ...\n",
       "95   9.191919  18.960197\n",
       "96   9.393939  13.618120\n",
       "97   9.595960  20.575697\n",
       "98   9.797980  16.339859\n",
       "99  10.000000  25.470135\n",
       "\n",
       "[100 rows x 2 columns]"
      ]
     },
     "execution_count": 3,
     "metadata": {},
     "output_type": "execute_result"
    }
   ],
   "source": [
    "np.random.seed(23)\n",
    "# Crear Eje x\n",
    "x=np.linspace(-10,10,100)\n",
    "#Crear Observaciones\n",
    "y=2*x+3*np.random.normal(0,1,size=len(x))\n",
    "\n",
    "#Crear DataFrame\n",
    "datos=pd.DataFrame(np.vstack((x,y)).T, columns=['x','y'])\n",
    "#Ver datos\n",
    "datos"
   ]
  },
  {
   "cell_type": "code",
   "execution_count": 4,
   "metadata": {},
   "outputs": [
    {
     "name": "stdout",
     "output_type": "stream",
     "text": [
      "WARNING:tensorflow:From C:\\Users\\deant\\.conda\\envs\\master1\\lib\\site-packages\\tensorflow\\python\\ops\\init_ops.py:1251: calling VarianceScaling.__init__ (from tensorflow.python.ops.init_ops) with dtype is deprecated and will be removed in a future version.\n",
      "Instructions for updating:\n",
      "Call initializer instance with the dtype argument instead of passing it to the constructor\n"
     ]
    }
   ],
   "source": [
    "# Crear Modelo \n",
    "\n",
    "model = keras.Sequential([\n",
    "    keras.layers.Dense(units=1,input_shape=(1,)) # Capa densa, 1 neurona, 1 dimensión de vectores.\n",
    "])"
   ]
  },
  {
   "cell_type": "code",
   "execution_count": 5,
   "metadata": {},
   "outputs": [],
   "source": [
    "# Compilar la red\n",
    "\n",
    "model.compile(optimizer='sgd', loss='mean_squared_error') # Optimizados sgd, pérdida: ECM"
   ]
  },
  {
   "cell_type": "code",
   "execution_count": 6,
   "metadata": {},
   "outputs": [
    {
     "name": "stdout",
     "output_type": "stream",
     "text": [
      "Model: \"sequential\"\n",
      "_________________________________________________________________\n",
      "Layer (type)                 Output Shape              Param #   \n",
      "=================================================================\n",
      "dense (Dense)                (None, 1)                 2         \n",
      "=================================================================\n",
      "Total params: 2\n",
      "Trainable params: 2\n",
      "Non-trainable params: 0\n",
      "_________________________________________________________________\n"
     ]
    }
   ],
   "source": [
    "# Resumen de la Red Neuronal\n",
    "\n",
    "model.summary()"
   ]
  },
  {
   "cell_type": "code",
   "execution_count": 7,
   "metadata": {},
   "outputs": [
    {
     "name": "stdout",
     "output_type": "stream",
     "text": [
      "Epoch 1/100\n",
      "100/100 [==============================] - 0s 860us/sample - loss: 157.6852\n",
      "Epoch 2/100\n",
      "100/100 [==============================] - 0s 51us/sample - loss: 8.1241\n",
      "Epoch 3/100\n",
      "100/100 [==============================] - 0s 45us/sample - loss: 8.2584\n",
      "Epoch 4/100\n",
      "100/100 [==============================] - 0s 30us/sample - loss: 8.1567\n",
      "Epoch 5/100\n",
      "100/100 [==============================] - 0s 50us/sample - loss: 8.0601\n",
      "Epoch 6/100\n",
      "100/100 [==============================] - 0s 60us/sample - loss: 8.2259\n",
      "Epoch 7/100\n",
      "100/100 [==============================] - 0s 40us/sample - loss: 8.2585\n",
      "Epoch 8/100\n",
      "100/100 [==============================] - 0s 80us/sample - loss: 8.5541\n",
      "Epoch 9/100\n",
      "100/100 [==============================] - 0s 120us/sample - loss: 8.1206\n",
      "Epoch 10/100\n",
      "100/100 [==============================] - 0s 110us/sample - loss: 8.6148\n",
      "Epoch 11/100\n",
      "100/100 [==============================] - 0s 110us/sample - loss: 8.5795\n",
      "Epoch 12/100\n",
      "100/100 [==============================] - 0s 70us/sample - loss: 8.1511\n",
      "Epoch 13/100\n",
      "100/100 [==============================] - 0s 130us/sample - loss: 8.1556\n",
      "Epoch 14/100\n",
      "100/100 [==============================] - 0s 95us/sample - loss: 8.1151\n",
      "Epoch 15/100\n",
      "100/100 [==============================] - 0s 60us/sample - loss: 8.4879\n",
      "Epoch 16/100\n",
      "100/100 [==============================] - 0s 50us/sample - loss: 8.1762\n",
      "Epoch 17/100\n",
      "100/100 [==============================] - 0s 50us/sample - loss: 8.0083\n",
      "Epoch 18/100\n",
      "100/100 [==============================] - 0s 50us/sample - loss: 9.7044\n",
      "Epoch 19/100\n",
      "100/100 [==============================] - 0s 40us/sample - loss: 8.1387\n",
      "Epoch 20/100\n",
      "100/100 [==============================] - 0s 60us/sample - loss: 9.8855\n",
      "Epoch 21/100\n",
      "100/100 [==============================] - 0s 50us/sample - loss: 8.2521\n",
      "Epoch 22/100\n",
      "100/100 [==============================] - 0s 70us/sample - loss: 8.3616\n",
      "Epoch 23/100\n",
      "100/100 [==============================] - 0s 50us/sample - loss: 8.1565\n",
      "Epoch 24/100\n",
      "100/100 [==============================] - 0s 80us/sample - loss: 8.5823\n",
      "Epoch 25/100\n",
      "100/100 [==============================] - 0s 50us/sample - loss: 8.0664\n",
      "Epoch 26/100\n",
      "100/100 [==============================] - 0s 70us/sample - loss: 8.3467\n",
      "Epoch 27/100\n",
      "100/100 [==============================] - 0s 50us/sample - loss: 8.1094\n",
      "Epoch 28/100\n",
      "100/100 [==============================] - 0s 60us/sample - loss: 8.2786\n",
      "Epoch 29/100\n",
      "100/100 [==============================] - 0s 50us/sample - loss: 8.0724\n",
      "Epoch 30/100\n",
      "100/100 [==============================] - 0s 50us/sample - loss: 8.1655\n",
      "Epoch 31/100\n",
      "100/100 [==============================] - 0s 60us/sample - loss: 8.0536\n",
      "Epoch 32/100\n",
      "100/100 [==============================] - 0s 50us/sample - loss: 8.0309\n",
      "Epoch 33/100\n",
      "100/100 [==============================] - 0s 90us/sample - loss: 8.2210\n",
      "Epoch 34/100\n",
      "100/100 [==============================] - 0s 50us/sample - loss: 8.4492\n",
      "Epoch 35/100\n",
      "100/100 [==============================] - 0s 80us/sample - loss: 8.1964\n",
      "Epoch 36/100\n",
      "100/100 [==============================] - 0s 50us/sample - loss: 8.8036\n",
      "Epoch 37/100\n",
      "100/100 [==============================] - 0s 50us/sample - loss: 8.0625\n",
      "Epoch 38/100\n",
      "100/100 [==============================] - 0s 50us/sample - loss: 8.2148\n",
      "Epoch 39/100\n",
      "100/100 [==============================] - 0s 50us/sample - loss: 8.0005\n",
      "Epoch 40/100\n",
      "100/100 [==============================] - 0s 70us/sample - loss: 9.1322\n",
      "Epoch 41/100\n",
      "100/100 [==============================] - 0s 50us/sample - loss: 8.3679\n",
      "Epoch 42/100\n",
      "100/100 [==============================] - 0s 80us/sample - loss: 8.0504\n",
      "Epoch 43/100\n",
      "100/100 [==============================] - 0s 60us/sample - loss: 7.9994\n",
      "Epoch 44/100\n",
      "100/100 [==============================] - 0s 80us/sample - loss: 8.9559\n",
      "Epoch 45/100\n",
      "100/100 [==============================] - 0s 70us/sample - loss: 8.0245\n",
      "Epoch 46/100\n",
      "100/100 [==============================] - 0s 60us/sample - loss: 8.1591\n",
      "Epoch 47/100\n",
      "100/100 [==============================] - 0s 80us/sample - loss: 8.3435\n",
      "Epoch 48/100\n",
      "100/100 [==============================] - 0s 60us/sample - loss: 8.2028\n",
      "Epoch 49/100\n",
      "100/100 [==============================] - 0s 110us/sample - loss: 8.0428\n",
      "Epoch 50/100\n",
      "100/100 [==============================] - 0s 70us/sample - loss: 8.0836\n",
      "Epoch 51/100\n",
      "100/100 [==============================] - 0s 90us/sample - loss: 9.3861\n",
      "Epoch 52/100\n",
      "100/100 [==============================] - 0s 50us/sample - loss: 8.3650\n",
      "Epoch 53/100\n",
      "100/100 [==============================] - 0s 70us/sample - loss: 8.3190\n",
      "Epoch 54/100\n",
      "100/100 [==============================] - 0s 50us/sample - loss: 8.0226\n",
      "Epoch 55/100\n",
      "100/100 [==============================] - 0s 70us/sample - loss: 8.0568\n",
      "Epoch 56/100\n",
      "100/100 [==============================] - 0s 70us/sample - loss: 7.9977\n",
      "Epoch 57/100\n",
      "100/100 [==============================] - 0s 70us/sample - loss: 8.0860\n",
      "Epoch 58/100\n",
      "100/100 [==============================] - 0s 50us/sample - loss: 8.9961\n",
      "Epoch 59/100\n",
      "100/100 [==============================] - 0s 90us/sample - loss: 8.1376\n",
      "Epoch 60/100\n",
      "100/100 [==============================] - 0s 60us/sample - loss: 8.6804\n",
      "Epoch 61/100\n",
      "100/100 [==============================] - 0s 70us/sample - loss: 8.0604\n",
      "Epoch 62/100\n",
      "100/100 [==============================] - 0s 50us/sample - loss: 8.4398\n",
      "Epoch 63/100\n",
      "100/100 [==============================] - 0s 100us/sample - loss: 8.4802\n",
      "Epoch 64/100\n",
      "100/100 [==============================] - ETA: 0s - loss: 10.84 - 0s 60us/sample - loss: 9.2269\n",
      "Epoch 65/100\n",
      "100/100 [==============================] - 0s 70us/sample - loss: 8.2910\n",
      "Epoch 66/100\n",
      "100/100 [==============================] - 0s 50us/sample - loss: 8.1666\n",
      "Epoch 67/100\n",
      "100/100 [==============================] - 0s 90us/sample - loss: 9.6663\n",
      "Epoch 68/100\n",
      "100/100 [==============================] - 0s 50us/sample - loss: 8.7925\n",
      "Epoch 69/100\n",
      "100/100 [==============================] - 0s 70us/sample - loss: 8.0728\n",
      "Epoch 70/100\n",
      "100/100 [==============================] - 0s 50us/sample - loss: 8.0098\n",
      "Epoch 71/100\n",
      "100/100 [==============================] - 0s 90us/sample - loss: 8.0527\n",
      "Epoch 72/100\n",
      "100/100 [==============================] - 0s 50us/sample - loss: 7.9812\n",
      "Epoch 73/100\n",
      "100/100 [==============================] - 0s 80us/sample - loss: 12.6334\n",
      "Epoch 74/100\n",
      "100/100 [==============================] - 0s 40us/sample - loss: 8.0603\n",
      "Epoch 75/100\n",
      "100/100 [==============================] - 0s 60us/sample - loss: 8.4181\n",
      "Epoch 76/100\n",
      "100/100 [==============================] - 0s 60us/sample - loss: 8.2391\n",
      "Epoch 77/100\n",
      "100/100 [==============================] - 0s 76us/sample - loss: 8.1769\n",
      "Epoch 78/100\n",
      "100/100 [==============================] - 0s 50us/sample - loss: 8.1379\n",
      "Epoch 79/100\n",
      "100/100 [==============================] - 0s 40us/sample - loss: 8.2627\n",
      "Epoch 80/100\n",
      "100/100 [==============================] - 0s 90us/sample - loss: 8.2261\n",
      "Epoch 81/100\n",
      "100/100 [==============================] - 0s 47us/sample - loss: 8.0446\n",
      "Epoch 82/100\n",
      "100/100 [==============================] - 0s 80us/sample - loss: 8.0216\n",
      "Epoch 83/100\n",
      "100/100 [==============================] - 0s 60us/sample - loss: 9.0704\n",
      "Epoch 84/100\n",
      "100/100 [==============================] - 0s 80us/sample - loss: 8.0802\n",
      "Epoch 85/100\n",
      "100/100 [==============================] - 0s 46us/sample - loss: 8.0404\n",
      "Epoch 86/100\n",
      "100/100 [==============================] - 0s 70us/sample - loss: 9.1271\n",
      "Epoch 87/100\n",
      "100/100 [==============================] - 0s 40us/sample - loss: 8.1533\n",
      "Epoch 88/100\n",
      "100/100 [==============================] - 0s 70us/sample - loss: 8.2711\n",
      "Epoch 89/100\n",
      "100/100 [==============================] - 0s 40us/sample - loss: 8.2617\n",
      "Epoch 90/100\n",
      "100/100 [==============================] - 0s 50us/sample - loss: 8.7997\n",
      "Epoch 91/100\n",
      "100/100 [==============================] - 0s 70us/sample - loss: 8.0744\n",
      "Epoch 92/100\n",
      "100/100 [==============================] - 0s 57us/sample - loss: 8.3751\n",
      "Epoch 93/100\n",
      "100/100 [==============================] - 0s 80us/sample - loss: 8.0675\n",
      "Epoch 94/100\n",
      "100/100 [==============================] - 0s 50us/sample - loss: 8.1081\n",
      "Epoch 95/100\n",
      "100/100 [==============================] - 0s 40us/sample - loss: 8.2204\n",
      "Epoch 96/100\n",
      "100/100 [==============================] - 0s 50us/sample - loss: 8.0480\n",
      "Epoch 97/100\n",
      "100/100 [==============================] - 0s 40us/sample - loss: 8.2998\n",
      "Epoch 98/100\n",
      "100/100 [==============================] - 0s 40us/sample - loss: 9.0519\n",
      "Epoch 99/100\n",
      "100/100 [==============================] - 0s 60us/sample - loss: 8.0537\n",
      "Epoch 100/100\n",
      "100/100 [==============================] - 0s 40us/sample - loss: 8.0247\n"
     ]
    },
    {
     "data": {
      "text/plain": [
       "<tensorflow.python.keras.callbacks.History at 0x270644eac88>"
      ]
     },
     "execution_count": 7,
     "metadata": {},
     "output_type": "execute_result"
    }
   ],
   "source": [
    "model.fit(x, y, epochs=100,verbose=1) # Ajuste del modelo, explicativo x, predecir y, iteración del gradiente descendiente, mostrar mensajes."
   ]
  },
  {
   "cell_type": "code",
   "execution_count": 8,
   "metadata": {},
   "outputs": [
    {
     "name": "stdout",
     "output_type": "stream",
     "text": [
      "\n",
      "Objeto Pesos: [array([[1.9487858]], dtype=float32), array([0.31267455], dtype=float32)]\n",
      "\n",
      "Number of Weights -> 2\n",
      "\n",
      "w1 = [1.9487858](Weight)\n",
      "w0 = [0.31267455](\"Weight\"->Bias)\n",
      "\n",
      "The  Regression Model is: y = w1*x+w0:\n",
      "\n",
      "y = 1.9487857818603516*x+0.31267455220222473\n"
     ]
    }
   ],
   "source": [
    "# Resultados de la RN\n",
    "\n",
    "w=model.get_weights()\n",
    "\n",
    "print(\"\\nObjeto Pesos:\",w)\n",
    "print('\\nNumber of Weights -> '+ str(len(w)))\n",
    "print('\\nw1 = ' + str(w[0][0]) +'(Weight)')\n",
    "print('w0 = ' + str(w[1])+'(\"Weight\"->Bias)')\n",
    "print('\\nThe  Regression Model is: y = w1*x+w0:')\n",
    "print('\\ny = {}*x+{}'.format(w[0].item(),w[1].item()))\n",
    "\n",
    "# Crear Modelo a las Malas\n",
    "x = np.linspace(x[0],x[-1],100)\n",
    "# Modelo de regresión\n",
    "reg = lambda x: np.transpose(w[0]*x+w[1])"
   ]
  },
  {
   "cell_type": "code",
   "execution_count": 9,
   "metadata": {},
   "outputs": [
    {
     "data": {
      "image/png": "[encoded data removed]",
      "text/plain": [
       "<Figure size 1080x576 with 1 Axes>"
      ]
     },
     "metadata": {
      "needs_background": "light"
     },
     "output_type": "display_data"
    }
   ],
   "source": [
    "# Visualización de datos\n",
    "\n",
    "plt.figure(figsize=(15,8))\n",
    "plt.plot(x,reg(x),'r-',label='Modelo: y={:.2f}x{:.2f}'.format(w[0].item(),w[1].item()))\n",
    "plt.plot(x,y,'o', label='Datos')\n",
    "plt.title('Plotting Model vs Data',fontsize=20)\n",
    "plt.xlabel(\"$x$\",fontsize=15)\n",
    "plt.ylabel(\"$y$\",fontsize=15)\n",
    "plt.legend(loc=0,fontsize=15)\n",
    "plt.grid()\n",
    "plt.show()"
   ]
  },
  {
   "cell_type": "code",
   "execution_count": 10,
   "metadata": {},
   "outputs": [
    {
     "name": "stdout",
     "output_type": "stream",
     "text": [
      " La Predicción en x = 11 es [[21.74932]]\n"
     ]
    },
    {
     "data": {
      "image/png": "[encoded data removed]",
      "text/plain": [
       "<Figure size 1080x576 with 1 Axes>"
      ]
     },
     "metadata": {
      "needs_background": "light"
     },
     "output_type": "display_data"
    }
   ],
   "source": [
    "# Predicción\n",
    "\n",
    "#Punto fuera de los datos de entrenamiento (MUY IMPORTANTE)\n",
    "x_test=[11.0]\n",
    "\n",
    "# Predecir valor usando el Modelo generado del entrenamiento\n",
    "pred = model.predict(x_test)\n",
    "print(' La Predicción en x = 11 es '+str(pred))\n",
    "\n",
    "# Aumentar Resolución del Modelo Fuera de los Datos\n",
    "x_model=np.linspace(-12,12,100)\n",
    "\n",
    "\n",
    "plt.figure(figsize=(15,8))\n",
    "plt.plot(x_model,reg(x_model),'r-',label='Modelo')\n",
    "plt.plot(x,y,'o', label='Datos')\n",
    "plt.plot(x_test,pred,'ko', label='Predicción')\n",
    "plt.title('Prediciendo el Futuro',fontsize=20)\n",
    "plt.legend(loc=0,fontsize=15)\n",
    "plt.grid()\n",
    "plt.show()\n"
   ]
  }
 ],
 "metadata": {
  "kernelspec": {
   "display_name": "Python 3",
   "language": "python",
   "name": "python3"
  },
  "language_info": {
   "codemirror_mode": {
    "name": "ipython",
    "version": 3
   },
   "file_extension": ".py",
   "mimetype": "text/x-python",
   "name": "python",
   "nbconvert_exporter": "python",
   "pygments_lexer": "ipython3",
   "version": "3.7.7"
  }
 },
 "nbformat": 4,
 "nbformat_minor": 4
}
